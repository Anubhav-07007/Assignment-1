{
  "nbformat": 4,
  "nbformat_minor": 0,
  "metadata": {
    "colab": {
      "name": "Untitled20.ipynb",
      "provenance": [],
      "collapsed_sections": []
    },
    "kernelspec": {
      "name": "python3",
      "display_name": "Python 3"
    },
    "language_info": {
      "name": "python"
    }
  },
  "cells": [
    {
      "cell_type": "code",
      "execution_count": 2,
      "metadata": {
        "colab": {
          "base_uri": "https://localhost:8080/",
          "height": 139
        },
        "id": "vgQjmushTAFI",
        "outputId": "7af6183f-2e6d-4c4d-ea63-6bf56420e2af"
      },
      "outputs": [
        {
          "output_type": "execute_result",
          "data": {
            "text/plain": [
              "'1. In the below elements which of them are values or an expression? eg:- values can be\\ninteger or string and expressions will be mathematical operators.\\n*\\n&#39;hello&#39;\\n-87.8\\n-\\n/\\n+\\n6\\n\\n2. What is the difference between string and variable?\\n\\n3. Describe three different data types.\\n\\n4. What is an expression made up of? What do all expressions do?\\n5. This assignment statements, like spam = 10. What is the difference between an\\nexpression and a statement?\\n6. After running the following code, what does the variable bacon contain?\\nbacon = 22\\nbacon + 1\\n\\n7. What should the values of the following two terms be?\\n&#39;spam&#39; + &#39;spamspam&#39;\\n&#39;spam&#39; * 3\\n\\n8. Why is eggs a valid variable name while 100 is invalid?\\n\\n9. What three functions can be used to get the integer, floating-point number, or string\\nversion of a value?\\n10. Why does this expression cause an error? How can you fix it?\\n&#39;I have eaten &#39; + 99 + &#39; burritos.&#39;'"
            ],
            "application/vnd.google.colaboratory.intrinsic+json": {
              "type": "string"
            }
          },
          "metadata": {},
          "execution_count": 2
        }
      ],
      "source": [
        "'''1. In the below elements which of them are values or an expression? eg:- values can be\n",
        "integer or string and expressions will be mathematical operators.\n",
        "*\n",
        "&#39;hello&#39;\n",
        "-87.8\n",
        "-\n",
        "/\n",
        "+\n",
        "6\n",
        "\n",
        "2. What is the difference between string and variable?\n",
        "\n",
        "3. Describe three different data types.\n",
        "\n",
        "4. What is an expression made up of? What do all expressions do?\n",
        "5. This assignment statements, like spam = 10. What is the difference between an\n",
        "expression and a statement?\n",
        "6. After running the following code, what does the variable bacon contain?\n",
        "bacon = 22\n",
        "bacon + 1\n",
        "\n",
        "7. What should the values of the following two terms be?\n",
        "&#39;spam&#39; + &#39;spamspam&#39;\n",
        "&#39;spam&#39; * 3\n",
        "\n",
        "8. Why is eggs a valid variable name while 100 is invalid?\n",
        "\n",
        "9. What three functions can be used to get the integer, floating-point number, or string\n",
        "version of a value?\n",
        "10. Why does this expression cause an error? How can you fix it?\n",
        "&#39;I have eaten &#39; + 99 + &#39; burritos.&#39;'''"
      ]
    },
    {
      "cell_type": "code",
      "source": [
        "'''1. In the below elements which of them are values or an expression? eg:- values can be\n",
        "integer or string and expressions will be mathematical operators.\n",
        "\n",
        "*\n",
        "\n",
        "&\n",
        "\n",
        "#\n",
        "\n",
        "39\n",
        "\n",
        "'hello'\n",
        "\n",
        "-87.8\n",
        "-\n",
        "/\n",
        "+\n",
        "6'''"
      ],
      "metadata": {
        "colab": {
          "base_uri": "https://localhost:8080/",
          "height": 53
        },
        "id": "aWQNB2AoTQn7",
        "outputId": "1f698073-6df8-4010-a50b-3b1352e482c6"
      },
      "execution_count": 6,
      "outputs": [
        {
          "output_type": "execute_result",
          "data": {
            "text/plain": [
              "\"1. In the below elements which of them are values or an expression? eg:- values can be\\ninteger or string and expressions will be mathematical operators.\\n\\n*\\n\\n&\\n\\n#\\n\\n39\\n\\n'hello'\\n\\n-87.8\\n-\\n/\\n+\\n6\""
            ],
            "application/vnd.google.colaboratory.intrinsic+json": {
              "type": "string"
            }
          },
          "metadata": {},
          "execution_count": 6
        }
      ]
    },
    {
      "cell_type": "code",
      "source": [
        "type('hello')"
      ],
      "metadata": {
        "colab": {
          "base_uri": "https://localhost:8080/"
        },
        "id": "LcdrhotDT2LL",
        "outputId": "b490c221-9d51-486c-f2cf-33d8945ed3c9"
      },
      "execution_count": 8,
      "outputs": [
        {
          "output_type": "execute_result",
          "data": {
            "text/plain": [
              "str"
            ]
          },
          "metadata": {},
          "execution_count": 8
        }
      ]
    },
    {
      "cell_type": "code",
      "source": [
        "type(39)"
      ],
      "metadata": {
        "colab": {
          "base_uri": "https://localhost:8080/"
        },
        "id": "Bsqbnz4ET_Gt",
        "outputId": "ba6099c9-da22-4074-9ca6-d8e806e7bd35"
      },
      "execution_count": 10,
      "outputs": [
        {
          "output_type": "execute_result",
          "data": {
            "text/plain": [
              "int"
            ]
          },
          "metadata": {},
          "execution_count": 10
        }
      ]
    },
    {
      "cell_type": "code",
      "source": [
        "type(-87.8)"
      ],
      "metadata": {
        "colab": {
          "base_uri": "https://localhost:8080/"
        },
        "id": "YfGAOpuJUKsp",
        "outputId": "f7110b29-7a1a-4cab-cab7-a60ac83b094d"
      },
      "execution_count": 11,
      "outputs": [
        {
          "output_type": "execute_result",
          "data": {
            "text/plain": [
              "float"
            ]
          },
          "metadata": {},
          "execution_count": 11
        }
      ]
    },
    {
      "cell_type": "code",
      "source": [
        "## 39, 'hello' , -87.8, 6 these all value."
      ],
      "metadata": {
        "id": "f6RX3RP6UOop"
      },
      "execution_count": 12,
      "outputs": []
    },
    {
      "cell_type": "code",
      "source": [
        "# What is the difference between string and variable?\n",
        "\n",
        "# Variable :- We use variable to store some data/value into it.  \n",
        "\n",
        "# String :- we can create string by combination of words in enclosed \"\". for example \"My name is Anubhav Rajput\"\n",
        "\n",
        "# We can \" \" & ' '"
      ],
      "metadata": {
        "id": "tttLc_YeUaPs"
      },
      "execution_count": 13,
      "outputs": []
    },
    {
      "cell_type": "code",
      "source": [
        "# Describe three different data types.\n",
        "\n",
        "# 1. Str Data type \n",
        "# 2. Float\n",
        "# 3. int\n",
        "# 4. Boolean\n",
        "\n",
        "a='anubhav'\n",
        "print(type(a))\n",
        "\n",
        "b= 100\n",
        "print(type(b))\n",
        "\n",
        "c=10.9\n",
        "\n",
        "print(type(c))\n",
        "\n",
        "d=True\n",
        "\n",
        "print(type(d))"
      ],
      "metadata": {
        "colab": {
          "base_uri": "https://localhost:8080/"
        },
        "id": "F801KNMFVFUB",
        "outputId": "38fb39c2-6757-430d-8f9c-a3c465c029b9"
      },
      "execution_count": 14,
      "outputs": [
        {
          "output_type": "stream",
          "name": "stdout",
          "text": [
            "<class 'str'>\n",
            "<class 'int'>\n",
            "<class 'float'>\n",
            "<class 'bool'>\n"
          ]
        }
      ]
    },
    {
      "cell_type": "code",
      "source": [
        "# What is an expression made up of? What do all expressions do?\n",
        "\n",
        "# expression is combination of data type and operator \n",
        "\n",
        "a=10\n",
        "b=20\n",
        "\n",
        "print(a+b)"
      ],
      "metadata": {
        "colab": {
          "base_uri": "https://localhost:8080/"
        },
        "id": "Ad6f0gggVjEZ",
        "outputId": "99317663-bbea-415b-bb2e-711ef91d24c4"
      },
      "execution_count": 15,
      "outputs": [
        {
          "output_type": "stream",
          "name": "stdout",
          "text": [
            "30\n"
          ]
        }
      ]
    },
    {
      "cell_type": "code",
      "source": [
        "#This assignment statements, like spam = 10. What is the difference between an expression and a statement?\n",
        "\n",
        "# Assignment mean we can assign the value to a variable like a=5, expression means we can get some out from that statement. .\n",
        "\n",
        "# for example:\n",
        "\n",
        "a=10-20+50\n",
        "\n",
        "print(a)"
      ],
      "metadata": {
        "colab": {
          "base_uri": "https://localhost:8080/"
        },
        "id": "spEQbIjXWAgh",
        "outputId": "3a7276be-e1eb-4d34-ea18-2d5c90cccd9f"
      },
      "execution_count": 17,
      "outputs": [
        {
          "output_type": "stream",
          "name": "stdout",
          "text": [
            "40\n"
          ]
        }
      ]
    },
    {
      "cell_type": "code",
      "source": [
        "# After running the following code, what does the variable bacon contain?\n",
        "bacon = 22\n",
        "bacon + 1\n",
        "\n",
        "# bacon=bacon+1   we use both method.\n",
        "\n",
        "print(bacon)"
      ],
      "metadata": {
        "colab": {
          "base_uri": "https://localhost:8080/"
        },
        "id": "dkw0gBnaWq1i",
        "outputId": "0c28b44a-a7ea-4707-b554-cadaa928527b"
      },
      "execution_count": 21,
      "outputs": [
        {
          "output_type": "stream",
          "name": "stdout",
          "text": [
            "23\n"
          ]
        }
      ]
    },
    {
      "cell_type": "code",
      "source": [
        "# What should the values of the following two terms be?\n",
        "\n",
        "'spam'+'spamspam'"
      ],
      "metadata": {
        "colab": {
          "base_uri": "https://localhost:8080/",
          "height": 35
        },
        "id": "vEQNF3xuW1K0",
        "outputId": "63330c35-0dfb-4773-bd98-684f441b17b9"
      },
      "execution_count": 22,
      "outputs": [
        {
          "output_type": "execute_result",
          "data": {
            "text/plain": [
              "'spamspamspam'"
            ],
            "application/vnd.google.colaboratory.intrinsic+json": {
              "type": "string"
            }
          },
          "metadata": {},
          "execution_count": 22
        }
      ]
    },
    {
      "cell_type": "code",
      "source": [
        "'spam'*3"
      ],
      "metadata": {
        "colab": {
          "base_uri": "https://localhost:8080/",
          "height": 35
        },
        "id": "IJhZEPbvXbW1",
        "outputId": "186be584-1691-4501-e5cd-04efa16057e5"
      },
      "execution_count": 23,
      "outputs": [
        {
          "output_type": "execute_result",
          "data": {
            "text/plain": [
              "'spamspamspam'"
            ],
            "application/vnd.google.colaboratory.intrinsic+json": {
              "type": "string"
            }
          },
          "metadata": {},
          "execution_count": 23
        }
      ]
    },
    {
      "cell_type": "code",
      "source": [
        "# Why is eggs a valid variable name while 100 is invalid?\n",
        "\n",
        "# We can use varialbe name start from word not a number ."
      ],
      "metadata": {
        "id": "3bSEYi5tXd1H"
      },
      "execution_count": 24,
      "outputs": []
    },
    {
      "cell_type": "code",
      "source": [
        "# What three functions can be used to get the integer, floating-point number, or string version of a value?\n",
        "\n",
        "int()\n",
        "str()\n",
        "float()"
      ],
      "metadata": {
        "colab": {
          "base_uri": "https://localhost:8080/"
        },
        "id": "X003n99SXkTr",
        "outputId": "e902bae3-4a5f-4bfd-a88e-27d60aa51057"
      },
      "execution_count": 27,
      "outputs": [
        {
          "output_type": "execute_result",
          "data": {
            "text/plain": [
              "0.0"
            ]
          },
          "metadata": {},
          "execution_count": 27
        }
      ]
    },
    {
      "cell_type": "code",
      "source": [
        "# Why does this expression cause an error? How can you fix it?\n",
        "#'i have eaten' +99+'burritos'\n",
        "\n",
        "\"i have eaten '+99+' burritor\""
      ],
      "metadata": {
        "colab": {
          "base_uri": "https://localhost:8080/",
          "height": 35
        },
        "id": "jSWexLnNXnIj",
        "outputId": "8e41f68f-521d-413e-892a-7ee8f8727cfc"
      },
      "execution_count": 31,
      "outputs": [
        {
          "output_type": "execute_result",
          "data": {
            "text/plain": [
              "\"i have eaten '+99+' burritor\""
            ],
            "application/vnd.google.colaboratory.intrinsic+json": {
              "type": "string"
            }
          },
          "metadata": {},
          "execution_count": 31
        }
      ]
    },
    {
      "cell_type": "code",
      "source": [
        ""
      ],
      "metadata": {
        "id": "uDA9ciXhXp8p"
      },
      "execution_count": null,
      "outputs": []
    }
  ]
}